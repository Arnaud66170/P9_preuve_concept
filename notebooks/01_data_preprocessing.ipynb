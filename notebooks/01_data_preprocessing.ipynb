{
 "cells": [
  {
   "cell_type": "markdown",
   "id": "59584b47",
   "metadata": {},
   "source": [
    "# 01_data_preprocessing.ipynb\n",
    "# 1. Imports et Setup Environnement"
   ]
  },
  {
   "cell_type": "code",
   "execution_count": null,
   "id": "038e1689",
   "metadata": {},
   "outputs": [],
   "source": [
    "import os\n",
    "import subprocess\n",
    "import pandas as pd\n",
    "import numpy as np\n",
    "import torch\n",
    "import tensorflow as tf\n",
    "import psutil\n",
    "import shutil\n",
    "import matplotlib.pyplot as plt\n",
    "import seaborn as sns\n",
    "from IPython.display import display, Markdown\n",
    "import mlflow\n",
    "import time\n",
    "import re\n",
    "import emoji\n",
    "import spacy\n",
    "import sys"
   ]
  },
  {
   "cell_type": "code",
   "execution_count": null,
   "id": "0431066d",
   "metadata": {},
   "outputs": [],
   "source": [
    "import sys\n",
    "sys.path.append('../src')\n",
    "\n",
    "from utils import *\n",
    "from data_preprocessing import *"
   ]
  },
  {
   "cell_type": "markdown",
   "id": "eb913035",
   "metadata": {},
   "source": [
    "# 1.1 - Setup NLP"
   ]
  },
  {
   "cell_type": "code",
   "execution_count": null,
   "id": "41c4f851",
   "metadata": {},
   "outputs": [],
   "source": [
    "try:\n",
    "    nlp = spacy.load(\"en_core_web_sm\", disable=[\"parser\", \"ner\"])\n",
    "except:\n",
    "    from spacy.cli import download\n",
    "    download(\"en_core_web_sm\")\n",
    "    nlp = spacy.load(\"en_core_web_sm\", disable=[\"parser\", \"ner\"])"
   ]
  },
  {
   "cell_type": "markdown",
   "id": "32f80e41",
   "metadata": {},
   "source": [
    "# 2. Amorçage GPU et Configuration"
   ]
  },
  {
   "cell_type": "code",
   "execution_count": null,
   "id": "f8c79450",
   "metadata": {},
   "outputs": [],
   "source": [
    "def check_gpu():\n",
    "    print(f\"\\nTorch CUDA Available: {torch.cuda.is_available()}\")\n",
    "    print(f\"TensorFlow Physical Devices (GPU): {tf.config.list_physical_devices('GPU')}\\n\")"
   ]
  },
  {
   "cell_type": "code",
   "execution_count": null,
   "id": "0af76078",
   "metadata": {},
   "outputs": [],
   "source": [
    "check_gpu()"
   ]
  },
  {
   "cell_type": "markdown",
   "id": "581d5350",
   "metadata": {},
   "source": [
    "# 3. Affichage Arborescence Projet"
   ]
  },
  {
   "cell_type": "code",
   "execution_count": null,
   "id": "ff363325",
   "metadata": {},
   "outputs": [],
   "source": []
  },
  {
   "cell_type": "markdown",
   "id": "ff05f3a4",
   "metadata": {},
   "source": []
  },
  {
   "cell_type": "code",
   "execution_count": null,
   "id": "00c7d873",
   "metadata": {},
   "outputs": [],
   "source": []
  }
 ],
 "metadata": {
  "kernelspec": {
   "display_name": "venv_p9",
   "language": "python",
   "name": "python3"
  },
  "language_info": {
   "name": "python",
   "version": "3.10.11"
  }
 },
 "nbformat": 4,
 "nbformat_minor": 5
}
