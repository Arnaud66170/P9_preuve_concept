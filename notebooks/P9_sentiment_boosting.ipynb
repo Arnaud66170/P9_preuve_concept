{
 "cells": [
  {
   "cell_type": "markdown",
   "id": "3e4167bf",
   "metadata": {},
   "source": [
    "## P9_sentiment_boosting.ipynb\n",
    "\n",
    "# 1. Imports et Setup"
   ]
  },
  {
   "cell_type": "code",
   "execution_count": null,
   "id": "dba2304e",
   "metadata": {},
   "outputs": [],
   "source": [
    "import pandas as pd\n",
    "import numpy as np\n",
    "import torch\n",
    "from transformers import AutoTokenizer, AutoModelForSequenceClassification, Trainer, TrainingArguments\n",
    "from datasets import Dataset\n",
    "from sklearn.metrics import accuracy_score, f1_score"
   ]
  },
  {
   "cell_type": "code",
   "execution_count": null,
   "id": "1861c3fd",
   "metadata": {},
   "outputs": [],
   "source": [
    "# ⚡ Setup GPU\n",
    "device = torch.device(\"cuda\") if torch.cuda.is_available() else torch.device(\"cpu\")\n",
    "print(f\"✅ Pytorch Device: {device}\")"
   ]
  },
  {
   "cell_type": "markdown",
   "id": "81548476",
   "metadata": {},
   "source": [
    "# Optionnel : fix random seed"
   ]
  },
  {
   "cell_type": "code",
   "execution_count": null,
   "id": "5d003d17",
   "metadata": {},
   "outputs": [],
   "source": [
    "# torch.manual_seed(70)"
   ]
  },
  {
   "cell_type": "markdown",
   "id": "1b1c9f5d",
   "metadata": {},
   "source": [
    "# 2. Chargement du Dataset\n",
    "# (à adapter avec  fichier nettoyé si besoin)"
   ]
  },
  {
   "cell_type": "code",
   "execution_count": null,
   "id": "406f6b94",
   "metadata": {},
   "outputs": [],
   "source": [
    "# Exemple :\n",
    "# df = pd.read_csv('tweets_cleaned.csv')\n",
    "# dataset = Dataset.from_pandas(df[['text', 'label']])"
   ]
  },
  {
   "cell_type": "markdown",
   "id": "9424e89f",
   "metadata": {},
   "source": [
    "# 3. Preprocessing et Tokenization"
   ]
  },
  {
   "cell_type": "code",
   "execution_count": null,
   "id": "3d249118",
   "metadata": {},
   "outputs": [],
   "source": [
    "# Exemple :\n",
    "tokenizer_name = 'distilbert-base-uncased'\n",
    "tokenizer = AutoTokenizer.from_pretrained(tokenizer_name)"
   ]
  },
  {
   "cell_type": "markdown",
   "id": "08b4532e",
   "metadata": {},
   "source": [
    "## 3.1 - Fonction de tokenization"
   ]
  },
  {
   "cell_type": "code",
   "execution_count": null,
   "id": "4c225158",
   "metadata": {},
   "outputs": [],
   "source": [
    "def tokenize_function(examples):\n",
    "    return tokenizer(examples['text'], padding='max_length', truncation=True)"
   ]
  },
  {
   "cell_type": "markdown",
   "id": "cae46224",
   "metadata": {},
   "source": [
    "## 3.2 - Tokenisation"
   ]
  },
  {
   "cell_type": "code",
   "execution_count": null,
   "id": "9b8f3328",
   "metadata": {},
   "outputs": [],
   "source": [
    "tokenized_dataset = dataset.map(tokenize_function, batched=True)"
   ]
  },
  {
   "cell_type": "markdown",
   "id": "70af1eb5",
   "metadata": {},
   "source": [
    "# 4. Création des datasets train/test"
   ]
  },
  {
   "cell_type": "code",
   "execution_count": null,
   "id": "2327328b",
   "metadata": {},
   "outputs": [],
   "source": [
    "split_dataset = tokenized_dataset.train_test_split(test_size=0.2, stratify_by_column='label')\n",
    "train_dataset = split_dataset['train']\n",
    "test_dataset = split_dataset['test']"
   ]
  },
  {
   "cell_type": "markdown",
   "id": "edbbe8f2",
   "metadata": {},
   "source": [
    "# 5. Baseline : Fine-tuning DistilBERT"
   ]
  },
  {
   "cell_type": "code",
   "execution_count": null,
   "id": "05216c26",
   "metadata": {},
   "outputs": [],
   "source": [
    "model_baseline = AutoModelForSequenceClassification.from_pretrained('distilbert-base-uncased', num_labels=2)"
   ]
  },
  {
   "cell_type": "code",
   "execution_count": null,
   "id": "ccb76d21",
   "metadata": {},
   "outputs": [],
   "source": [
    "training_args_baseline = TrainingArguments(\n",
    "    output_dir='./results_baseline',\n",
    "    evaluation_strategy='epoch',\n",
    "    save_strategy='epoch',\n",
    "    learning_rate=2e-5,\n",
    "    per_device_train_batch_size=16,\n",
    "    per_device_eval_batch_size=16,\n",
    "    num_train_epochs=3,\n",
    "    weight_decay=0.01,\n",
    "    logging_dir='./logs_baseline',\n",
    "    load_best_model_at_end=True,\n",
    ")"
   ]
  },
  {
   "cell_type": "code",
   "execution_count": null,
   "id": "5fdedcbd",
   "metadata": {},
   "outputs": [],
   "source": [
    "trainer_baseline = Trainer(\n",
    "    model=model_baseline,\n",
    "    args=training_args_baseline,\n",
    "    train_dataset=train_dataset,\n",
    "    eval_dataset=test_dataset,\n",
    "    compute_metrics=lambda p: {\"accuracy\": accuracy_score(p.label_ids, np.argmax(p.predictions, axis=1)),\n",
    "                                \"f1\": f1_score(p.label_ids, np.argmax(p.predictions, axis=1))}\n",
    ")"
   ]
  },
  {
   "cell_type": "code",
   "execution_count": null,
   "id": "b32e05a6",
   "metadata": {},
   "outputs": [],
   "source": [
    "trainer_baseline.train()"
   ]
  },
  {
   "cell_type": "markdown",
   "id": "843193aa",
   "metadata": {},
   "source": [
    "# 6. Fine-tuning DeBERTaV3 Small"
   ]
  },
  {
   "cell_type": "code",
   "execution_count": null,
   "id": "97086416",
   "metadata": {},
   "outputs": [],
   "source": [
    "model_deberta = AutoModelForSequenceClassification.from_pretrained('microsoft/deberta-v3-small', num_labels=2)"
   ]
  },
  {
   "cell_type": "code",
   "execution_count": null,
   "id": "3a062c03",
   "metadata": {},
   "outputs": [],
   "source": [
    "training_args_deberta = TrainingArguments(\n",
    "    output_dir='./results_deberta',\n",
    "    evaluation_strategy='epoch',\n",
    "    save_strategy='epoch',\n",
    "    learning_rate=2e-5,\n",
    "    per_device_train_batch_size=16,\n",
    "    per_device_eval_batch_size=16,\n",
    "    num_train_epochs=3,\n",
    "    weight_decay=0.01,\n",
    "    logging_dir='./logs_deberta',\n",
    "    load_best_model_at_end=True,\n",
    ")"
   ]
  },
  {
   "cell_type": "code",
   "execution_count": null,
   "id": "d40c6b9f",
   "metadata": {},
   "outputs": [],
   "source": [
    "trainer_deberta = Trainer(\n",
    "    model=model_deberta,\n",
    "    args=training_args_deberta,\n",
    "    train_dataset=train_dataset,\n",
    "    eval_dataset=test_dataset,\n",
    "    compute_metrics=lambda p: {\"accuracy\": accuracy_score(p.label_ids, np.argmax(p.predictions, axis=1)),\n",
    "                                \"f1\": f1_score(p.label_ids, np.argmax(p.predictions, axis=1))}\n",
    ")"
   ]
  },
  {
   "cell_type": "code",
   "execution_count": null,
   "id": "dd2b66fc",
   "metadata": {},
   "outputs": [],
   "source": [
    "trainer_deberta.train()"
   ]
  },
  {
   "cell_type": "markdown",
   "id": "26e89270",
   "metadata": {},
   "source": [
    "# 7. Fine-tuning MiniLMv2"
   ]
  },
  {
   "cell_type": "code",
   "execution_count": null,
   "id": "da79c213",
   "metadata": {},
   "outputs": [],
   "source": [
    "model_minilm = AutoModelForSequenceClassification.from_pretrained('nreimers/MiniLMv2-L6-H384-distilled-from-RoBERTa-Large', num_labels=2)"
   ]
  },
  {
   "cell_type": "code",
   "execution_count": null,
   "id": "0cc8c0f6",
   "metadata": {},
   "outputs": [],
   "source": [
    "training_args_minilm = TrainingArguments(\n",
    "    output_dir='./results_minilm',\n",
    "    evaluation_strategy='epoch',\n",
    "    save_strategy='epoch',\n",
    "    learning_rate=2e-5,\n",
    "    per_device_train_batch_size=16,\n",
    "    per_device_eval_batch_size=16,\n",
    "    num_train_epochs=3,\n",
    "    weight_decay=0.01,\n",
    "    logging_dir='./logs_minilm',\n",
    "    load_best_model_at_end=True,\n",
    ")"
   ]
  },
  {
   "cell_type": "code",
   "execution_count": null,
   "id": "893a2b24",
   "metadata": {},
   "outputs": [],
   "source": [
    "trainer_minilm = Trainer(\n",
    "    model=model_minilm,\n",
    "    args=training_args_minilm,\n",
    "    train_dataset=train_dataset,\n",
    "    eval_dataset=test_dataset,\n",
    "    compute_metrics=lambda p: {\"accuracy\": accuracy_score(p.label_ids, np.argmax(p.predictions, axis=1)),\n",
    "                                \"f1\": f1_score(p.label_ids, np.argmax(p.predictions, axis=1))}\n",
    ")\n"
   ]
  },
  {
   "cell_type": "code",
   "execution_count": null,
   "id": "2c398dbe",
   "metadata": {},
   "outputs": [],
   "source": [
    "trainer_minilm.train()"
   ]
  },
  {
   "cell_type": "markdown",
   "id": "230a3db7",
   "metadata": {},
   "source": [
    "# 8. Comparaison des résultats"
   ]
  },
  {
   "cell_type": "code",
   "execution_count": null,
   "id": "ea9e3a19",
   "metadata": {},
   "outputs": [],
   "source": [
    "# (Accuracy, F1-score, Temps CPU)"
   ]
  },
  {
   "cell_type": "markdown",
   "id": "55f7f483",
   "metadata": {},
   "source": [
    "# 9. Techniques d'optimisation (optionnel)"
   ]
  },
  {
   "cell_type": "code",
   "execution_count": null,
   "id": "24520456",
   "metadata": {},
   "outputs": [],
   "source": [
    "# - Quantization\n",
    "# - Pruning"
   ]
  },
  {
   "cell_type": "markdown",
   "id": "73e2f430",
   "metadata": {},
   "source": [
    "# 10. Visualisations et Export des Résultats"
   ]
  },
  {
   "cell_type": "code",
   "execution_count": null,
   "id": "614d3dcb",
   "metadata": {},
   "outputs": [],
   "source": [
    "# (pour dashboard final)"
   ]
  },
  {
   "cell_type": "markdown",
   "id": "3e84b4dd",
   "metadata": {},
   "source": [
    "# 11. Conclusion"
   ]
  },
  {
   "cell_type": "code",
   "execution_count": null,
   "id": "2c805876",
   "metadata": {},
   "outputs": [],
   "source": [
    "# (Résumer ce qui a été observé, points forts/faibles)"
   ]
  },
  {
   "cell_type": "markdown",
   "id": "c25dbbf6",
   "metadata": {},
   "source": [
    "# 📄 Fin du notebook\n",
    "# ➡️ A compléter avec :\n",
    "# - Temps d'entraînement pour chaque modèle\n",
    "# - Comparaison visuelle (barplot)\n",
    "# - Interprétabilité (ex: LIME)\n",
    "# - Bonus : Quantization possible sur DeBERTaV3 Small"
   ]
  },
  {
   "cell_type": "markdown",
   "id": "453547f5",
   "metadata": {},
   "source": []
  }
 ],
 "metadata": {
  "kernelspec": {
   "display_name": "venv_p9",
   "language": "python",
   "name": "python3"
  },
  "language_info": {
   "name": "python",
   "version": "3.10.11"
  }
 },
 "nbformat": 4,
 "nbformat_minor": 5
}
